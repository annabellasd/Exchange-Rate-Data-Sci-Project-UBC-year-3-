{
 "cells": [
  {
   "cell_type": "markdown",
   "metadata": {},
   "source": [
    "<font face=\"Arial\">\n",
    "\n",
    "## Betting on Exchange Rates: 323 Final Project ##\n",
    "\n",
    "Annabella Stoll-Dansereau    \n",
    "\n",
    "### Motivation ###\n",
    "    \n",
    "Exchange rates are notoriously difficult to predict. Even extrapolating from transaction costs it's hard to find a model that proves more accurate than a random walk (mean zero). Many of the models learned in my Microfinance class, 456, taught us models that rely on inaccessible data such as the natural interest rate and the output gap. Sometimes these indicators are provided though they are highly speculative and not widely available across countries. \n",
    "    \n",
    "    \n",
    "### My Model ###\n",
    "    \n",
    "While any complex model was out of the question there was the simple real exchange rate equation defined as \n",
    "    \n",
    "$$RER = \\frac{P_{US}}{P_{i}} * S $$ \n",
    "    \n",
    "Where the RER is the real exchange rate, S is the nominal exchange rate and P are the price levels in the respective counties. To clarify this is always in the US perspective i.e. for Canada and US an RER = 1.3 would mean for every 1 USD you get 1.3 CAD. \n",
    "    \n",
    "One theory is that long-run RER stays constant between counties so if the RER is above the mean in one year in the long run it should come back down and meaning the home currency will depreciate. Since the US is our benchmark RER that is above the long run RER would mean the exchange rate should adjust down. In this example, the USD feels a depreciation compared to the other country in question. \n",
    "\n",
    "    \n",
    "\n",
    "### Question ###\n",
    "My main question was whether I could build a framework that made money on average following some investing rule based on this model. To test this I created a short and long-betting strategy in the currency depending on what my model said. If my model predicted a depreciation in the the non-US currency I would take out a loan in that currency using it to buy US dollars and hold those. Then after some period I would convert the currency back into the non-US currency and make a profit! (or more likely a loss). The opposite trading strategy occurred when I predicted the non-US currency would appreciate. \n",
    "   \n",
    "    \n",
    "### Assumptions ###\n",
    "    \n",
    "There are some obvious assumptions that need to be addressed. First I assumed the present value of my investment stayed the same over the years. This is highly unlikely because the US interest rate is much lower than more risky currencies and loan rates will differ depending on the nation. With more time, and access to more data it would be interesting to relax this assumption and account for various lending rates between countries to take into consideration the accumulation/depreciation of wealth over the holding period. Also, note that the stated returns are over the time period and not yearly. \n",
    "    \n",
    "Another assumption was no trading costs and unlimited access to capital and credit. The data is also stated on a yearly basis so I could compare the exchange rate to the OECD indexes. There are probably some timing issues as exchange rates are very volatile locally. \n",
    "\n",
    "    \n",
    "### Data Cleaning ###\n",
    "    \n",
    "I'm sorry in advance I tried to make this neater by importing it in but I got a ton of errors and five hours later determined I should probably be studying for another class.....just scroll until you see Latex!\n",
    "\n"
   ]
  },
  {
   "cell_type": "code",
   "execution_count": 1,
   "metadata": {},
   "outputs": [],
   "source": [
    "import pandas as pd \n",
    "import numpy as np\n",
    "\n",
    "import warnings\n",
    "warnings.filterwarnings('ignore')\n",
    "\n",
    "def data_comp(variables):\n",
    "\n",
    "    '''\n",
    "    cleaning OECD data pass in the name of csv files you are using\n",
    "\n",
    "    '''\n",
    "    for n, var in enumerate(variables):\n",
    "\n",
    "        #read in file OECD data\n",
    "\n",
    "        df =  pd.read_csv(f\"{var}.csv\")\n",
    "\n",
    "        #drop redundent columns and transform it into Year, Country, Variable\n",
    "\n",
    "        df.columns = df.iloc[2]\n",
    "        df.drop([0,1,2], inplace=True)\n",
    "        df.drop(df.columns[1:44], axis=1, inplace=True)\n",
    "        df.set_index('Country Name', inplace = True, drop = True)\n",
    "        df = df.T\n",
    "        df.index = [round(idx) for idx in df.index]\n",
    "        df.index = pd.to_datetime(df.index, format='%Y')\n",
    "        df = df.reset_index()\n",
    "        df = pd.melt(df, id_vars=['index'], value_vars=df.columns[1:], var_name='Country Name', value_name='Value')\n",
    "\n",
    "        df.set_index(['index', 'Country Name'], inplace=True)\n",
    "        df.index.names = [\"Year\", \"Country Name\"]\n",
    "        df.rename(columns={'Value': var}, inplace=True)\n",
    "\n",
    "        #making the dataframe and combining over all variables\n",
    "        if n == 0: \n",
    "            full_df = df\n",
    "        else: \n",
    "            full_df = pd.concat([full_df, df], axis =1)\n",
    "    return(full_df)\n"
   ]
  },
  {
   "cell_type": "code",
   "execution_count": 2,
   "metadata": {},
   "outputs": [],
   "source": [
    "df_PPP_model= data_comp(['RER', 'Forex rate', 'PPP'])\n",
    "df_PPP = pd.read_csv(f\"PPP_US.csv\")\n",
    "\n",
    "df_PPP_model = df_PPP_model[df_PPP_model.notna().all(axis=1)]\n",
    "\n",
    "df_PPP_model['con_RER'] = (df_PPP_model['Forex rate'] * df_PPP_model['PPP'])\n",
    "\n",
    "df =df_PPP_model.reset_index()\n"
   ]
  },
  {
   "cell_type": "code",
   "execution_count": 3,
   "metadata": {},
   "outputs": [],
   "source": [
    "df= pd.read_csv(f\"PPP_US.csv\")\n",
    "\n",
    "country_mapping = {\n",
    "\n",
    "    'ARM': 'Armenia', 'ATG': 'Antigua and Barbuda', 'AUS': 'Australia', 'BDI': 'Burundi', 'BGR': 'Bulgaria', \n",
    "    'BHR': 'Bahrain', 'BHS': 'Bahamas, The', 'BLZ': 'Belize', 'BOL': 'Bolivia', 'BRA': 'Brazil', \n",
    "    'CAF': 'Central African Republic', 'CAN': 'Canada', 'CHE': 'Switzerland', 'CHL': 'Chile', 'CHN': 'China', \n",
    "    'CIV': \"Cote d'Ivoire\", 'CMR': 'Cameroon', 'COD': 'Congo, Dem. Rep.', 'COL': 'Colombia', 'CRI': 'Costa Rica', \n",
    "    'CYP': 'Cyprus', 'CZE': 'Czechia', 'DMA': 'Dominica', 'DNK': 'Denmark', 'DOM': 'Dominican Republic', \n",
    "    'DZA': 'Algeria', 'FJI': 'Fiji', 'GAB': 'Gabon', 'GBR': 'United Kingdom', 'GEO': 'Georgia', 'GHA': 'Ghana', \n",
    "    'GMB': 'Gambia, The', 'GNQ': 'Equatorial Guinea', 'GRC': 'Greece', 'GRD': 'Grenada', 'GUY': 'Guyana', \n",
    "    'HKG': 'Hong Kong SAR, China', 'HRV': 'Croatia', 'HUN': 'Hungary', 'IRN': 'Iran, Islamic Rep.', 'ISL': 'Iceland', \n",
    "    'ISR': 'Israel', 'JPN': 'Japan', 'KNA': 'St. Kitts and Nevis', 'KOR': 'Korea, Rep.', 'LCA': 'St. Lucia', \n",
    "    'LSO': 'Lesotho', 'LVA': 'Latvia', 'MAR': 'Morocco', 'MDA': 'Moldova', 'MEX': 'Mexico', 'MKD': 'North Macedonia', \n",
    "    'MLT': 'Malta', 'MWI': 'Malawi', 'MYS': 'Malaysia', 'NGA': 'Nigeria', 'NIC': 'Nicaragua', 'NOR': 'Norway', \n",
    "    'NZL': 'New Zealand', 'PAK': 'Pakistan', 'PHL': 'Philippines', 'PNG': 'Papua New Guinea', 'POL': 'Poland', \n",
    "    'PRY': 'Paraguay', 'ROU': 'Romania', 'RUS': 'Russian Federation', 'SAU': 'Saudi Arabia', 'SGP': 'Singapore', \n",
    "    'SLB': 'Solomon Islands', 'SLE': 'Sierra Leone', 'SVK': 'Slovak Republic', 'SWE': 'Sweden', 'TGO': 'Togo', \n",
    "    'TTO': 'Trinidad and Tobago', 'TUN': 'Tunisia', 'UGA': 'Uganda', 'UKR': 'Ukraine', 'URY': 'Uruguay', 'USA': 'United States',\n",
    "    'VCT': 'St. Vincent and the Grenadines', 'VEN': 'Venezuela, RB', 'WSM': 'Samoa', 'ZAF': 'South Africa',\n",
    "    'ZMB': 'Zambia'}\n",
    "\n",
    "def apply_country_mapping(location):\n",
    "    if location in country_mapping:\n",
    "        return country_mapping[location]\n",
    "    else:\n",
    "        return None\n",
    "\n",
    "df['LOCATION'] = df['LOCATION'].apply(apply_country_mapping)\n",
    "\n",
    "# Extract only the necessary columns\n",
    "df = df[['LOCATION', 'TIME', 'Value']]\n",
    "df['TIME'] = pd.to_datetime(df['TIME'], format='%Y')\n",
    "\n",
    "df = df.rename(columns={'Value': 'PPP_for_ER'})\n",
    "df = df.dropna()\n",
    "df.set_index(['TIME', 'LOCATION'], inplace=True)\n",
    "df.index.set_names(['Year', 'Country Name'], inplace=True)"
   ]
  },
  {
   "cell_type": "code",
   "execution_count": 4,
   "metadata": {},
   "outputs": [],
   "source": [
    "df\n",
    "df_merged = df.merge(df_PPP_model, left_index=True, right_index=True, how='inner')\n",
    "\n",
    "df_merged['Final_diff'] = df_merged['con_RER'] - df_merged['PPP_for_ER']\n",
    "\n",
    "#filtering out unstable ones, increases returns by only 2% in higher return one so not super important\n",
    "df_merged = df_merged[df_merged['Final_diff']>-0.1]\n",
    "df_merged = df_merged[df_merged['Final_diff']<0.1]\n",
    "\n",
    "df_merged.sort_index(inplace=True)\n",
    "\n",
    "# Select all rows with years before 2015 and including 2015\n",
    "df_year_before_2015 = df_merged.loc[(slice(None, '2015-01-01'), slice(None)), :]\n",
    "\n",
    "df_merged['diff_in_ave_RER'] = df_merged['RER'].div(df_year_before_2015.groupby('Country Name').mean()['RER'])\n",
    "\n",
    "df_years={}\n",
    "for yr in range(2000, 2022):\n",
    "    name = f'df_{yr}'\n",
    "    dt_year= pd.to_datetime(f'{yr}-01-01')\n",
    "    df_year = df_merged.loc[(dt_year, slice(None))]\n",
    "    df_years[yr] = df_year\n",
    "    "
   ]
  },
  {
   "cell_type": "markdown",
   "metadata": {},
   "source": [
    "<font face=\"Arial\">\n",
    "    \n",
    "### Mean Reverting Method: ###\n",
    "\n",
    "For mean reversion I am taking the average of the historical $RER$ up until 2015 and then predicting on this 2015-2018 using a collection of 1-4 year holding periods. I calculed the difference in the average $RER$ as $$\\frac{RER_{n}}{ \\Sigma_{i=2000}^ {2014} \\frac{1}{15}RER_i}$$ where n is between 2015-2018. \n",
    "\n",
    "If this value was greater less than one that means the USD is overvalued or other currency is undervalued as such we expect the USD to depreciate and should take out a loan in USD and buy the other currency then after the holding period pay back the loan and make a profit (...hopfully). \n"
   ]
  },
  {
   "cell_type": "code",
   "execution_count": 5,
   "metadata": {
    "scrolled": true
   },
   "outputs": [],
   "source": [
    "# Function that determines if the currency is overvalued i.e. <1 and we should should bet the currency will go up\n",
    "\n",
    "def holdings(row):\n",
    "    if row['diff_in_ave_RER'] < 1:\n",
    "        loan_amount = row['loan_amount'] * row['Forex rate']\n",
    "        row['usd_amount'] = loan_amount/row['Forex rate']\n",
    "        row['home_currency_amount'] = -loan_amount\n",
    "    else:\n",
    "        loan_amount = row['loan_amount']\n",
    "        row['usd_amount'] = -loan_amount\n",
    "        row['home_currency_amount'] = loan_amount * row['Forex rate']\n",
    "    return row\n",
    "\n",
    "yr_past = 2015\n",
    "\n",
    "returns = {}\n",
    "\n",
    "for yr_past in range(2015,2018):\n",
    "    list = []\n",
    "    for yr in range(1,5):\n",
    "        yr_future = yr_past+yr\n",
    "        df = df_years[yr_past]\n",
    "        df['loan_amount'] = 1000\n",
    "        df_mean_RER_investment = df_years[yr_past].apply(holdings,axis=1)\n",
    "        df_mean_RER_investment[f'{yr_future}_ER'] = df_years[yr_future]['Forex rate']\n",
    "        df_mean_RER_investment['new_usd_amount'] = (1/df_mean_RER_investment[f'{yr_future}_ER'])*df_mean_RER_investment['home_currency_amount'] \n",
    "        df_mean_RER_investment['return_USD'] = df_mean_RER_investment['new_usd_amount'] + df_mean_RER_investment['usd_amount']\n",
    "        total_investment = df_mean_RER_investment['return_USD'].count() *1000\n",
    "        gains = df_mean_RER_investment['return_USD'].sum()\n",
    "        return_to = (((gains+total_investment)/total_investment-1)*100).round(3)\n",
    "        list.append(return_to)\n",
    "    returns[yr_past] = list \n",
    "    "
   ]
  },
  {
   "cell_type": "code",
   "execution_count": 6,
   "metadata": {},
   "outputs": [
    {
     "name": "stdout",
     "output_type": "stream",
     "text": [
      "Average Returns for 1 year holding period: -0.06 %\n",
      "Average Returns for 2 year holding period: -0.49 %\n",
      "Average Returns for 3 year holding period: 0.49 %\n",
      "Average Returns for 4 year holding period: 2.15 %\n"
     ]
    }
   ],
   "source": [
    "returns_mean_reverting = []\n",
    "\n",
    "for i in range(0,4):\n",
    "\n",
    "    elements = [v[i] for v in returns.values()]\n",
    "    average = sum(elements) / len(elements)\n",
    "    returns_mean_reverting.append(average)\n",
    "\n",
    "    print(f\"Average Returns for {i+1} year holding period:\", average.round(2), \"%\")"
   ]
  },
  {
   "cell_type": "markdown",
   "metadata": {},
   "source": [
    "<font face=\"Arial\"> Here we see evidence for mean reversion although the percentages are very small, so you wont be making much money. "
   ]
  },
  {
   "cell_type": "markdown",
   "metadata": {},
   "source": [
    "<font face=\"Arial\">\n",
    "    \n",
    "### Real Exchange Rate Differential Method: ###\n",
    "    \n",
    "This is where the theory becomes a bit looser and instead is experimenting. There was OECD data on the estimated real exchange rates, while there wasn't any information on how exactly they reported this is wasn't by our definition above so that cued me to use this differential in a model. There are a lot of timing issues as I have no idea when these various data sources reported their values but assuming everything was reported for the same time (end/beginning of the year). \n",
    "    \n",
    " In one version I decided that the market knows best and the nominal exchange rate is the most reflective of current information and true expectations of $RER$ and maybe $RER_{OECD}$ was a more accurate true real exchange rate taking into consideration more than just the price levels. Whatever the mechanism I guessed that the $RER_{OECD}$ would adjust towards the market information and used this value to benchmark whether the currency should appreciate or depreciate. \n",
    "\n",
    "$$\\Delta = RER_{con} - RER_{OECD}$$\n",
    "\n",
    "Where as before $ RER_{con} = PPP*S $. I hypothesized that if this value was positive then that would mean nominal rates would adjust. If we held moved the OECD to close this gap a positive value would mean the price $RER_{OECD}$ would have to increase and thus cause an appreciation of the dollar compared to the other currency. As such we would want to invest in USD and take out a loan in the other currency. \n",
    "    \n",
    "In another strategy, I used the absolute value of this differential to automatically get a loan in the other currency and invest in USD. The rationale was this indicates an unstable currency potentially (unstable in terms of expectation not actual trading volatility). However, this signalled that it would be better to divest in that currency. This return that we see could be interpreted as compensation for risk, while we are personally safe from this risk because our holdings are in USD the loan we took out in the other currency may have a higher loan payment rate because of currency instability causing us to make a much lower real return.\n",
    "    \n",
    "### Equal Investing ###\n",
    "    \n",
    "I first model this with equal investments in all countries based on a holdings rule (i.e. either a loan or hold $1000 USD for all countries regardless of the size of the differential). \n"
   ]
  },
  {
   "cell_type": "code",
   "execution_count": 7,
   "metadata": {},
   "outputs": [
    {
     "name": "stdout",
     "output_type": "stream",
     "text": [
      "Average Returns for 1 year holding period: 0.22 %\n",
      "Average Returns for 2 year holding period: 0.52 %\n",
      "Average Returns for 3 year holding period: 1.18 %\n",
      "Average Returns for 4 year holding period: 1.83 %\n"
     ]
    }
   ],
   "source": [
    "def holdings(row):\n",
    "    if row['Final_diff'] > 0:\n",
    "        loan_amount = 1000 * row['Forex rate']\n",
    "        row['usd_amount'] = loan_amount/row['Forex rate']\n",
    "        row['home_currency_amount'] = -loan_amount\n",
    "    else:\n",
    "        loan_amount = 1000\n",
    "        row['usd_amount'] = -loan_amount\n",
    "        row['home_currency_amount'] = loan_amount * row['Forex rate']\n",
    "    return row\n",
    "\n",
    "returns = {}\n",
    "\n",
    "for yr_past in range(2009,2018):\n",
    "    list = []\n",
    "    for yr in range(1,5):\n",
    "        yr_future = yr_past+yr\n",
    "        df_mean_PPP_diff_investment = df_years[yr_past].apply(holdings, axis=1)\n",
    "        df_mean_PPP_diff_investment[f'{yr_future}_ER'] = df_years[yr_future]['Forex rate']\n",
    "        df_mean_PPP_diff_investment['new_usd_amount'] = (1/df_mean_PPP_diff_investment[f'{yr_future}_ER'])*df_mean_PPP_diff_investment['home_currency_amount'] \n",
    "        df_mean_PPP_diff_investment['return_USD'] = df_mean_PPP_diff_investment['new_usd_amount'] + df_mean_PPP_diff_investment['usd_amount']\n",
    "        total_investment = df_mean_PPP_diff_investment['return_USD'].count() *1000\n",
    "        gains = df_mean_PPP_diff_investment['return_USD'].sum()\n",
    "        return_to = (((gains+total_investment)/total_investment-1)*100).round(3)\n",
    "        list.append(return_to)\n",
    "    returns[yr_past] = list\n",
    " \n",
    "returns_uniform = []\n",
    "\n",
    "for i in range(0,4):\n",
    "\n",
    "    elements = [v[i] for v in returns.values()]\n",
    "    average = sum(elements) / len(elements)\n",
    "    returns_uniform.append(average)\n",
    "\n",
    "    print(f\"Average Returns for {i+1} year holding period:\", average.round(2),\"%\")"
   ]
  },
  {
   "cell_type": "markdown",
   "metadata": {},
   "source": [
    "<font face=\"Arial\"> \n",
    "We see a small return although nothing to be too happy about. \n",
    "    \n",
    "### Proportionally Investing ###\n",
    "\n",
    "To try and break my model and see whether we just got lucky over the ten years I am describing a new holding rule. Now you will invest in a currency proportional to your holdings so this will amplify our prediction rule effect. I capped investments at a threshold given some countries had abnormally high differentials as a non risk adverse invester I decided this was an okay assumption as having these outliers really skewed the returns (i.e. if we invested 10000 dollars in Australia and under 100 dollars in all other countries we would just be modeling the predictive power for Austria)."
   ]
  },
  {
   "cell_type": "code",
   "execution_count": 8,
   "metadata": {},
   "outputs": [],
   "source": [
    "def holdings(row):\n",
    "    if row['Final_diff'] > 0:\n",
    "        loan_amount = row['loan_amount']* row['Forex rate']\n",
    "        row['usd_amount'] = loan_amount/row['Forex rate']\n",
    "        row['home_currency_amount'] = -loan_amount\n",
    "    else:\n",
    "        loan_amount = row['loan_amount']\n",
    "        row['usd_amount'] = -loan_amount \n",
    "        row['home_currency_amount'] = loan_amount * row['Forex rate'] \n",
    "    return row\n",
    "\n",
    "returns = {}\n",
    "\n",
    "for yr_past in range(2008,2018):\n",
    "    list = []\n",
    "    for yr in range(1,5):\n",
    "        yr_future = yr_past+yr\n",
    "        x = 10000000 * df_years[yr_past]['Final_diff'].abs()\n",
    "        \n",
    "        df_years[yr_past]['loan_amount'] = x.clip(upper=1000)\n",
    "        df_mean_PPP_diff_investment = df_years[yr_past].apply(holdings, axis=1)\n",
    "        df_mean_PPP_diff_investment[f'{yr_future}_ER'] = df_years[yr_future]['Forex rate']\n",
    "        df_mean_PPP_diff_investment['new_usd_amount'] = (1/df_mean_PPP_diff_investment[f'{yr_future}_ER'])*df_mean_PPP_diff_investment['home_currency_amount'] \n",
    "        df_mean_PPP_diff_investment['return_USD'] = df_mean_PPP_diff_investment['new_usd_amount'] + df_mean_PPP_diff_investment['usd_amount']\n",
    "        df_years[yr_past]['home_currency_amount'] = df_mean_PPP_diff_investment['home_currency_amount']\n",
    "        df_years[yr_past]['usd_amount'] = df_mean_PPP_diff_investment['usd_amount']\n",
    "        total_investment = np.abs(df_mean_PPP_diff_investment['usd_amount']).sum()\n",
    "        gains = df_mean_PPP_diff_investment['return_USD'].sum()/total_investment *100\n",
    "        list.append(gains)\n",
    "    returns[yr_past] = list\n"
   ]
  },
  {
   "cell_type": "code",
   "execution_count": 9,
   "metadata": {},
   "outputs": [
    {
     "name": "stdout",
     "output_type": "stream",
     "text": [
      "Average Returns for 1 year holding period: 1.15 %\n",
      "Average Returns for 2 year holding period: 0.57 %\n",
      "Average Returns for 3 year holding period: 1.99 %\n",
      "Average Returns for 4 year holding period: 2.92 %\n"
     ]
    }
   ],
   "source": [
    "returns_prop = []\n",
    "for i in range(0,4):\n",
    "\n",
    "    elements = [v[i] for v in returns.values()]\n",
    "    average = sum(elements) / len(elements)\n",
    "    returns_prop.append(average)\n",
    "\n",
    "    print(f\"Average Returns for {i+1} year holding period:\", average.round(2), \"%\")"
   ]
  },
  {
   "cell_type": "markdown",
   "metadata": {},
   "source": [
    "<font face=\"Arial\"> \n",
    "\n",
    "We see stronger returns overall holding periods which is a positive sign that we are measuring an actual effect rather than purely getting lucky (although we can't rule luck out). \n",
    "    \n",
    "### Absolute Deviation Investing ###\n",
    "    \n",
    "Next we will investigate our final question of whether the size rather than actual sign of this differential has an effect. Note that we will be shorting every currency to different extents (i.e. we rarely take a position in Canada becuase our differential stated that this is a stable currency). "
   ]
  },
  {
   "cell_type": "code",
   "execution_count": 10,
   "metadata": {},
   "outputs": [],
   "source": [
    "returns2 = {}\n",
    "\n",
    "for yr_past in range(2008,2018):\n",
    "    list = []\n",
    "    for yr in range(1,5):\n",
    "        yr_future = yr_past+yr\n",
    "        x = 10000000 * df_years[yr_past]['Final_diff']\n",
    "        \n",
    "        df_years[yr_past]['loan_amount'] = x.clip(upper=1000)\n",
    "        df_mean_PPP_diff_investment = df_years[yr_past].apply(holdings, axis=1)\n",
    "        df_mean_PPP_diff_investment[f'{yr_future}_ER'] = df_years[yr_future]['Forex rate']\n",
    "        df_mean_PPP_diff_investment['new_usd_amount'] = (1/df_mean_PPP_diff_investment[f'{yr_future}_ER'])*df_mean_PPP_diff_investment['home_currency_amount'] \n",
    "        df_mean_PPP_diff_investment['return_USD'] = df_mean_PPP_diff_investment['new_usd_amount'] + df_mean_PPP_diff_investment['usd_amount']\n",
    "        #df_years[yr_past]['home_currency_amount'] = df_mean_PPP_diff_investment['home_currency_amount']\n",
    "        #df_years[yr_past]['usd_amount'] = df_mean_PPP_diff_investment['usd_amount']\n",
    "        total_investment = np.abs(df_mean_PPP_diff_investment['usd_amount']).sum()\n",
    "        gains = df_mean_PPP_diff_investment['return_USD'].sum()/total_investment *100\n",
    "        list.append(gains)\n",
    "    returns2[yr_past] = list"
   ]
  },
  {
   "cell_type": "code",
   "execution_count": 11,
   "metadata": {},
   "outputs": [
    {
     "name": "stdout",
     "output_type": "stream",
     "text": [
      "Average Returns for 1 year holding period: 3.24 %\n",
      "Average Returns for 2 year holding period: 5.82 %\n",
      "Average Returns for 3 year holding period: 7.06 %\n",
      "Average Returns for 4 year holding period: 10.75 %\n"
     ]
    }
   ],
   "source": [
    "returns_prop2 = []\n",
    "for i in range(0,4):\n",
    "\n",
    "    elements2 = [v[i] for v in returns2.values()]\n",
    "    average2 = sum(elements2) / len(elements2)\n",
    "    returns_prop2.append(average2)\n",
    "\n",
    "    print(f\"Average Returns for {i+1} year holding period:\", average2.round(2), \"%\")"
   ]
  },
  {
   "cell_type": "markdown",
   "metadata": {},
   "source": [
    "<font face=\"Arial\">\n",
    "    \n",
    "### Visualizing the Returns ###\n",
    "\n",
    "Here our the returns for the different strategies graphed together, taking the average across all the years I modeled it for (2008-2018) across discrete time periods (1,2,3,4 years). \n",
    "    \n"
   ]
  },
  {
   "cell_type": "code",
   "execution_count": 16,
   "metadata": {},
   "outputs": [
    {
     "data": {
      "text/html": [
       "<iframe\n",
       "    scrolling=\"no\"\n",
       "    width=\"100%\"\n",
       "    height=\"545px\"\n",
       "    src=\"iframe_figures/figure_16.html\"\n",
       "    frameborder=\"0\"\n",
       "    allowfullscreen\n",
       "></iframe>\n"
      ]
     },
     "metadata": {},
     "output_type": "display_data"
    }
   ],
   "source": [
    "import plotly.graph_objs as go\n",
    "\n",
    "# Create some data for the chart\n",
    "x_values = [1, 2, 3, 4]\n",
    "\n",
    "y_1 = returns_mean_reverting\n",
    "y_2 = returns_uniform\n",
    "y_3 = returns_prop\n",
    "y_4 = returns_prop2\n",
    "\n",
    "\n",
    "# Create two traces, one for each line\n",
    "trace1 = go.Scatter(x=x_values, y=y_1, mode='lines', name='Average Returns to Mean Reverting Investing')\n",
    "\n",
    "trace2 = go.Scatter(x=x_values, y=y_2, mode='lines', name='Average Returns Uniform PPP Investing')\n",
    "trace3 = go.Scatter(x=x_values, y=y_3, mode='lines', name='Average Returns Proportional PPP Investing')\n",
    "trace4 = go.Scatter(x=x_values, y=y_4, mode='lines', name='Average Absolute Deviation PPP Investing')\n",
    "\n",
    "# Add the traces to a data object\n",
    "data = [trace1, trace2, trace3, trace4]\n",
    "\n",
    "# Define the layout for the chart\n",
    "layout = go.Layout(title={'text': 'Returns to Different Investment Strategies','y': 0.95, 'x': 0.35, 'xanchor': 'center',\n",
    "                    'yanchor': 'top'},\n",
    "                   xaxis_title='Holding Period', yaxis_title='Percentage Return (%)')\n",
    "\n",
    "# Create the figure\n",
    "fig = go.Figure(data=data, layout=layout)\n",
    "\n",
    "# Show the figure\n",
    "fig.show()"
   ]
  },
  {
   "cell_type": "markdown",
   "metadata": {},
   "source": [
    "<font face=\"Arial\">\n",
    "    \n",
    "### Absolute Deviation Investing Depending on the Starting Year  ###\n",
    "\n",
    "To better understand what is happending here is a snapshot showing the different holding periods and the returns depending on which year you started investing. It appears to be more reliable over longer time horizons and we see a large dip after the 2008 crisis. Although this isn't the most enlightening picture it shows how we are getting pretty consistent positive returns and not just having one year with incredibly high returns making up for negatives across other years. \n",
    "    \n"
   ]
  },
  {
   "cell_type": "code",
   "execution_count": 13,
   "metadata": {},
   "outputs": [
    {
     "data": {
      "application/vnd.plotly.v1+json": {
       "config": {
        "plotlyServerURL": "https://plot.ly"
       },
       "data": [
        {
         "marker": {
          "color": "red"
         },
         "name": "1 Year Holding Period",
         "type": "bar",
         "x": [
          2008,
          2009,
          2010,
          2011,
          2012,
          2013,
          2014,
          2015,
          2016,
          2017
         ],
         "xaxis": "x",
         "y": [
          14.206219816537466,
          -14.990480639949041,
          -11.235882700342446,
          -0.2048452989714224,
          6.5280828921491825,
          9.636067922635608,
          19.458512150035936,
          9.838192221592736,
          -3.309953731377888,
          2.442374495825747
         ],
         "yaxis": "y"
        },
        {
         "marker": {
          "color": "green"
         },
         "name": "2 Year Holding Period",
         "type": "bar",
         "x": [
          2008,
          2009,
          2010,
          2011,
          2012,
          2013,
          2014,
          2015,
          2016,
          2017
         ],
         "xaxis": "x2",
         "y": [
          10.03026244761536,
          -28.058842425652696,
          -10.173964450262163,
          3.831666683492014,
          12.705632664672336,
          28.288554262608166,
          28.066311127096466,
          4.770533066614948,
          -0.49093798848726994,
          9.204542028416341
         ],
         "yaxis": "y2"
        },
        {
         "marker": {
          "color": "blue"
         },
         "name": "3 Year Holding Period",
         "type": "bar",
         "x": [
          2008,
          2009,
          2010,
          2011,
          2012,
          2013,
          2014,
          2015,
          2016,
          2017
         ],
         "xaxis": "x3",
         "y": [
          6.359785028457035,
          -27.23308622161893,
          -3.9927968049155735,
          7.532935324642405,
          1.487995543556172,
          37.99694800099152,
          24.446010488239615,
          6.925720915297427,
          6.933608857523193,
          10.153998528770511
         ],
         "yaxis": "y3"
        },
        {
         "marker": {
          "color": "purple"
         },
         "name": "4 Year Holding Period",
         "type": "bar",
         "x": [
          2008,
          2009,
          2010,
          2011,
          2012,
          2013,
          2014,
          2015,
          2016,
          2017
         ],
         "xaxis": "x4",
         "y": [
          10.494911819237677,
          -19.795871893962115,
          1.8907137979329107,
          0.09635490889912848,
          28.413864348983616,
          34.241664693479066,
          26.464048822384743,
          14.854057965870679,
          8.80244031301845,
          1.991522320659843
         ],
         "yaxis": "y4"
        }
       ],
       "layout": {
        "annotations": [
         {
          "font": {
           "size": 16
          },
          "showarrow": false,
          "text": "1 Year Holding Period",
          "x": 0.225,
          "xanchor": "center",
          "xref": "paper",
          "y": 1,
          "yanchor": "bottom",
          "yref": "paper"
         },
         {
          "font": {
           "size": 16
          },
          "showarrow": false,
          "text": "2 Year Holding Period",
          "x": 0.775,
          "xanchor": "center",
          "xref": "paper",
          "y": 1,
          "yanchor": "bottom",
          "yref": "paper"
         },
         {
          "font": {
           "size": 16
          },
          "showarrow": false,
          "text": "3 Year Holding Period",
          "x": 0.225,
          "xanchor": "center",
          "xref": "paper",
          "y": 0.375,
          "yanchor": "bottom",
          "yref": "paper"
         },
         {
          "font": {
           "size": 16
          },
          "showarrow": false,
          "text": "4 Year Holding Period",
          "x": 0.775,
          "xanchor": "center",
          "xref": "paper",
          "y": 0.375,
          "yanchor": "bottom",
          "yref": "paper"
         }
        ],
        "height": 600,
        "margin": {
         "b": 20,
         "l": 20,
         "r": 20,
         "t": 80
        },
        "paper_bgcolor": "rgb(255, 255, 255)",
        "plot_bgcolor": "rgb(243, 243, 243)",
        "showlegend": false,
        "template": {
         "data": {
          "bar": [
           {
            "error_x": {
             "color": "#2a3f5f"
            },
            "error_y": {
             "color": "#2a3f5f"
            },
            "marker": {
             "line": {
              "color": "#E5ECF6",
              "width": 0.5
             },
             "pattern": {
              "fillmode": "overlay",
              "size": 10,
              "solidity": 0.2
             }
            },
            "type": "bar"
           }
          ],
          "barpolar": [
           {
            "marker": {
             "line": {
              "color": "#E5ECF6",
              "width": 0.5
             },
             "pattern": {
              "fillmode": "overlay",
              "size": 10,
              "solidity": 0.2
             }
            },
            "type": "barpolar"
           }
          ],
          "carpet": [
           {
            "aaxis": {
             "endlinecolor": "#2a3f5f",
             "gridcolor": "white",
             "linecolor": "white",
             "minorgridcolor": "white",
             "startlinecolor": "#2a3f5f"
            },
            "baxis": {
             "endlinecolor": "#2a3f5f",
             "gridcolor": "white",
             "linecolor": "white",
             "minorgridcolor": "white",
             "startlinecolor": "#2a3f5f"
            },
            "type": "carpet"
           }
          ],
          "choropleth": [
           {
            "colorbar": {
             "outlinewidth": 0,
             "ticks": ""
            },
            "type": "choropleth"
           }
          ],
          "contour": [
           {
            "colorbar": {
             "outlinewidth": 0,
             "ticks": ""
            },
            "colorscale": [
             [
              0,
              "#0d0887"
             ],
             [
              0.1111111111111111,
              "#46039f"
             ],
             [
              0.2222222222222222,
              "#7201a8"
             ],
             [
              0.3333333333333333,
              "#9c179e"
             ],
             [
              0.4444444444444444,
              "#bd3786"
             ],
             [
              0.5555555555555556,
              "#d8576b"
             ],
             [
              0.6666666666666666,
              "#ed7953"
             ],
             [
              0.7777777777777778,
              "#fb9f3a"
             ],
             [
              0.8888888888888888,
              "#fdca26"
             ],
             [
              1,
              "#f0f921"
             ]
            ],
            "type": "contour"
           }
          ],
          "contourcarpet": [
           {
            "colorbar": {
             "outlinewidth": 0,
             "ticks": ""
            },
            "type": "contourcarpet"
           }
          ],
          "heatmap": [
           {
            "colorbar": {
             "outlinewidth": 0,
             "ticks": ""
            },
            "colorscale": [
             [
              0,
              "#0d0887"
             ],
             [
              0.1111111111111111,
              "#46039f"
             ],
             [
              0.2222222222222222,
              "#7201a8"
             ],
             [
              0.3333333333333333,
              "#9c179e"
             ],
             [
              0.4444444444444444,
              "#bd3786"
             ],
             [
              0.5555555555555556,
              "#d8576b"
             ],
             [
              0.6666666666666666,
              "#ed7953"
             ],
             [
              0.7777777777777778,
              "#fb9f3a"
             ],
             [
              0.8888888888888888,
              "#fdca26"
             ],
             [
              1,
              "#f0f921"
             ]
            ],
            "type": "heatmap"
           }
          ],
          "heatmapgl": [
           {
            "colorbar": {
             "outlinewidth": 0,
             "ticks": ""
            },
            "colorscale": [
             [
              0,
              "#0d0887"
             ],
             [
              0.1111111111111111,
              "#46039f"
             ],
             [
              0.2222222222222222,
              "#7201a8"
             ],
             [
              0.3333333333333333,
              "#9c179e"
             ],
             [
              0.4444444444444444,
              "#bd3786"
             ],
             [
              0.5555555555555556,
              "#d8576b"
             ],
             [
              0.6666666666666666,
              "#ed7953"
             ],
             [
              0.7777777777777778,
              "#fb9f3a"
             ],
             [
              0.8888888888888888,
              "#fdca26"
             ],
             [
              1,
              "#f0f921"
             ]
            ],
            "type": "heatmapgl"
           }
          ],
          "histogram": [
           {
            "marker": {
             "pattern": {
              "fillmode": "overlay",
              "size": 10,
              "solidity": 0.2
             }
            },
            "type": "histogram"
           }
          ],
          "histogram2d": [
           {
            "colorbar": {
             "outlinewidth": 0,
             "ticks": ""
            },
            "colorscale": [
             [
              0,
              "#0d0887"
             ],
             [
              0.1111111111111111,
              "#46039f"
             ],
             [
              0.2222222222222222,
              "#7201a8"
             ],
             [
              0.3333333333333333,
              "#9c179e"
             ],
             [
              0.4444444444444444,
              "#bd3786"
             ],
             [
              0.5555555555555556,
              "#d8576b"
             ],
             [
              0.6666666666666666,
              "#ed7953"
             ],
             [
              0.7777777777777778,
              "#fb9f3a"
             ],
             [
              0.8888888888888888,
              "#fdca26"
             ],
             [
              1,
              "#f0f921"
             ]
            ],
            "type": "histogram2d"
           }
          ],
          "histogram2dcontour": [
           {
            "colorbar": {
             "outlinewidth": 0,
             "ticks": ""
            },
            "colorscale": [
             [
              0,
              "#0d0887"
             ],
             [
              0.1111111111111111,
              "#46039f"
             ],
             [
              0.2222222222222222,
              "#7201a8"
             ],
             [
              0.3333333333333333,
              "#9c179e"
             ],
             [
              0.4444444444444444,
              "#bd3786"
             ],
             [
              0.5555555555555556,
              "#d8576b"
             ],
             [
              0.6666666666666666,
              "#ed7953"
             ],
             [
              0.7777777777777778,
              "#fb9f3a"
             ],
             [
              0.8888888888888888,
              "#fdca26"
             ],
             [
              1,
              "#f0f921"
             ]
            ],
            "type": "histogram2dcontour"
           }
          ],
          "mesh3d": [
           {
            "colorbar": {
             "outlinewidth": 0,
             "ticks": ""
            },
            "type": "mesh3d"
           }
          ],
          "parcoords": [
           {
            "line": {
             "colorbar": {
              "outlinewidth": 0,
              "ticks": ""
             }
            },
            "type": "parcoords"
           }
          ],
          "pie": [
           {
            "automargin": true,
            "type": "pie"
           }
          ],
          "scatter": [
           {
            "fillpattern": {
             "fillmode": "overlay",
             "size": 10,
             "solidity": 0.2
            },
            "type": "scatter"
           }
          ],
          "scatter3d": [
           {
            "line": {
             "colorbar": {
              "outlinewidth": 0,
              "ticks": ""
             }
            },
            "marker": {
             "colorbar": {
              "outlinewidth": 0,
              "ticks": ""
             }
            },
            "type": "scatter3d"
           }
          ],
          "scattercarpet": [
           {
            "marker": {
             "colorbar": {
              "outlinewidth": 0,
              "ticks": ""
             }
            },
            "type": "scattercarpet"
           }
          ],
          "scattergeo": [
           {
            "marker": {
             "colorbar": {
              "outlinewidth": 0,
              "ticks": ""
             }
            },
            "type": "scattergeo"
           }
          ],
          "scattergl": [
           {
            "marker": {
             "colorbar": {
              "outlinewidth": 0,
              "ticks": ""
             }
            },
            "type": "scattergl"
           }
          ],
          "scattermapbox": [
           {
            "marker": {
             "colorbar": {
              "outlinewidth": 0,
              "ticks": ""
             }
            },
            "type": "scattermapbox"
           }
          ],
          "scatterpolar": [
           {
            "marker": {
             "colorbar": {
              "outlinewidth": 0,
              "ticks": ""
             }
            },
            "type": "scatterpolar"
           }
          ],
          "scatterpolargl": [
           {
            "marker": {
             "colorbar": {
              "outlinewidth": 0,
              "ticks": ""
             }
            },
            "type": "scatterpolargl"
           }
          ],
          "scatterternary": [
           {
            "marker": {
             "colorbar": {
              "outlinewidth": 0,
              "ticks": ""
             }
            },
            "type": "scatterternary"
           }
          ],
          "surface": [
           {
            "colorbar": {
             "outlinewidth": 0,
             "ticks": ""
            },
            "colorscale": [
             [
              0,
              "#0d0887"
             ],
             [
              0.1111111111111111,
              "#46039f"
             ],
             [
              0.2222222222222222,
              "#7201a8"
             ],
             [
              0.3333333333333333,
              "#9c179e"
             ],
             [
              0.4444444444444444,
              "#bd3786"
             ],
             [
              0.5555555555555556,
              "#d8576b"
             ],
             [
              0.6666666666666666,
              "#ed7953"
             ],
             [
              0.7777777777777778,
              "#fb9f3a"
             ],
             [
              0.8888888888888888,
              "#fdca26"
             ],
             [
              1,
              "#f0f921"
             ]
            ],
            "type": "surface"
           }
          ],
          "table": [
           {
            "cells": {
             "fill": {
              "color": "#EBF0F8"
             },
             "line": {
              "color": "white"
             }
            },
            "header": {
             "fill": {
              "color": "#C8D4E3"
             },
             "line": {
              "color": "white"
             }
            },
            "type": "table"
           }
          ]
         },
         "layout": {
          "annotationdefaults": {
           "arrowcolor": "#2a3f5f",
           "arrowhead": 0,
           "arrowwidth": 1
          },
          "autotypenumbers": "strict",
          "coloraxis": {
           "colorbar": {
            "outlinewidth": 0,
            "ticks": ""
           }
          },
          "colorscale": {
           "diverging": [
            [
             0,
             "#8e0152"
            ],
            [
             0.1,
             "#c51b7d"
            ],
            [
             0.2,
             "#de77ae"
            ],
            [
             0.3,
             "#f1b6da"
            ],
            [
             0.4,
             "#fde0ef"
            ],
            [
             0.5,
             "#f7f7f7"
            ],
            [
             0.6,
             "#e6f5d0"
            ],
            [
             0.7,
             "#b8e186"
            ],
            [
             0.8,
             "#7fbc41"
            ],
            [
             0.9,
             "#4d9221"
            ],
            [
             1,
             "#276419"
            ]
           ],
           "sequential": [
            [
             0,
             "#0d0887"
            ],
            [
             0.1111111111111111,
             "#46039f"
            ],
            [
             0.2222222222222222,
             "#7201a8"
            ],
            [
             0.3333333333333333,
             "#9c179e"
            ],
            [
             0.4444444444444444,
             "#bd3786"
            ],
            [
             0.5555555555555556,
             "#d8576b"
            ],
            [
             0.6666666666666666,
             "#ed7953"
            ],
            [
             0.7777777777777778,
             "#fb9f3a"
            ],
            [
             0.8888888888888888,
             "#fdca26"
            ],
            [
             1,
             "#f0f921"
            ]
           ],
           "sequentialminus": [
            [
             0,
             "#0d0887"
            ],
            [
             0.1111111111111111,
             "#46039f"
            ],
            [
             0.2222222222222222,
             "#7201a8"
            ],
            [
             0.3333333333333333,
             "#9c179e"
            ],
            [
             0.4444444444444444,
             "#bd3786"
            ],
            [
             0.5555555555555556,
             "#d8576b"
            ],
            [
             0.6666666666666666,
             "#ed7953"
            ],
            [
             0.7777777777777778,
             "#fb9f3a"
            ],
            [
             0.8888888888888888,
             "#fdca26"
            ],
            [
             1,
             "#f0f921"
            ]
           ]
          },
          "colorway": [
           "#636efa",
           "#EF553B",
           "#00cc96",
           "#ab63fa",
           "#FFA15A",
           "#19d3f3",
           "#FF6692",
           "#B6E880",
           "#FF97FF",
           "#FECB52"
          ],
          "font": {
           "color": "#2a3f5f"
          },
          "geo": {
           "bgcolor": "white",
           "lakecolor": "white",
           "landcolor": "#E5ECF6",
           "showlakes": true,
           "showland": true,
           "subunitcolor": "white"
          },
          "hoverlabel": {
           "align": "left"
          },
          "hovermode": "closest",
          "mapbox": {
           "style": "light"
          },
          "paper_bgcolor": "white",
          "plot_bgcolor": "#E5ECF6",
          "polar": {
           "angularaxis": {
            "gridcolor": "white",
            "linecolor": "white",
            "ticks": ""
           },
           "bgcolor": "#E5ECF6",
           "radialaxis": {
            "gridcolor": "white",
            "linecolor": "white",
            "ticks": ""
           }
          },
          "scene": {
           "xaxis": {
            "backgroundcolor": "#E5ECF6",
            "gridcolor": "white",
            "gridwidth": 2,
            "linecolor": "white",
            "showbackground": true,
            "ticks": "",
            "zerolinecolor": "white"
           },
           "yaxis": {
            "backgroundcolor": "#E5ECF6",
            "gridcolor": "white",
            "gridwidth": 2,
            "linecolor": "white",
            "showbackground": true,
            "ticks": "",
            "zerolinecolor": "white"
           },
           "zaxis": {
            "backgroundcolor": "#E5ECF6",
            "gridcolor": "white",
            "gridwidth": 2,
            "linecolor": "white",
            "showbackground": true,
            "ticks": "",
            "zerolinecolor": "white"
           }
          },
          "shapedefaults": {
           "line": {
            "color": "#2a3f5f"
           }
          },
          "ternary": {
           "aaxis": {
            "gridcolor": "white",
            "linecolor": "white",
            "ticks": ""
           },
           "baxis": {
            "gridcolor": "white",
            "linecolor": "white",
            "ticks": ""
           },
           "bgcolor": "#E5ECF6",
           "caxis": {
            "gridcolor": "white",
            "linecolor": "white",
            "ticks": ""
           }
          },
          "title": {
           "x": 0.05
          },
          "xaxis": {
           "automargin": true,
           "gridcolor": "white",
           "linecolor": "white",
           "ticks": "",
           "title": {
            "standoff": 15
           },
           "zerolinecolor": "white",
           "zerolinewidth": 2
          },
          "yaxis": {
           "automargin": true,
           "gridcolor": "white",
           "linecolor": "white",
           "ticks": "",
           "title": {
            "standoff": 15
           },
           "zerolinecolor": "white",
           "zerolinewidth": 2
          }
         }
        },
        "title": {
         "text": "Return in the PPP Strategy over Holding Periods by Start Year",
         "x": 0.5,
         "xanchor": "center",
         "y": 0.98,
         "yanchor": "top"
        },
        "width": 800,
        "xaxis": {
         "anchor": "y",
         "automargin": true,
         "domain": [
          0,
          0.45
         ],
         "title": {
          "text": "Year"
         }
        },
        "xaxis2": {
         "anchor": "y2",
         "domain": [
          0.55,
          1
         ],
         "title": {
          "text": "Year"
         }
        },
        "xaxis3": {
         "anchor": "y3",
         "domain": [
          0,
          0.45
         ],
         "title": {
          "text": "Year"
         }
        },
        "xaxis4": {
         "anchor": "y4",
         "domain": [
          0.55,
          1
         ],
         "title": {
          "text": "Year"
         }
        },
        "yaxis": {
         "anchor": "x",
         "automargin": true,
         "domain": [
          0.625,
          1
         ],
         "title": {
          "text": "Returns (%)"
         }
        },
        "yaxis2": {
         "anchor": "x2",
         "domain": [
          0.625,
          1
         ],
         "title": {
          "text": "Returns (%)"
         }
        },
        "yaxis3": {
         "anchor": "x3",
         "domain": [
          0,
          0.375
         ],
         "title": {
          "text": "Returns (%)"
         }
        },
        "yaxis4": {
         "anchor": "x4",
         "domain": [
          0,
          0.375
         ],
         "title": {
          "text": "Returns (%)"
         }
        }
       }
      },
      "text/html": [
       "<div>                            <div id=\"cdf3ddaf-8fa9-4602-a5dc-6f54bde61ea1\" class=\"plotly-graph-div\" style=\"height:600px; width:800px;\"></div>            <script type=\"text/javascript\">                require([\"plotly\"], function(Plotly) {                    window.PLOTLYENV=window.PLOTLYENV || {};                                    if (document.getElementById(\"cdf3ddaf-8fa9-4602-a5dc-6f54bde61ea1\")) {                    Plotly.newPlot(                        \"cdf3ddaf-8fa9-4602-a5dc-6f54bde61ea1\",                        [{\"marker\":{\"color\":\"red\"},\"name\":\"1 Year Holding Period\",\"x\":[2008,2009,2010,2011,2012,2013,2014,2015,2016,2017],\"y\":[14.206219816537466,-14.990480639949041,-11.235882700342446,-0.2048452989714224,6.5280828921491825,9.636067922635608,19.458512150035936,9.838192221592736,-3.309953731377888,2.442374495825747],\"type\":\"bar\",\"xaxis\":\"x\",\"yaxis\":\"y\"},{\"marker\":{\"color\":\"green\"},\"name\":\"2 Year Holding Period\",\"x\":[2008,2009,2010,2011,2012,2013,2014,2015,2016,2017],\"y\":[10.03026244761536,-28.058842425652696,-10.173964450262163,3.831666683492014,12.705632664672336,28.288554262608166,28.066311127096466,4.770533066614948,-0.49093798848726994,9.204542028416341],\"type\":\"bar\",\"xaxis\":\"x2\",\"yaxis\":\"y2\"},{\"marker\":{\"color\":\"blue\"},\"name\":\"3 Year Holding Period\",\"x\":[2008,2009,2010,2011,2012,2013,2014,2015,2016,2017],\"y\":[6.359785028457035,-27.23308622161893,-3.9927968049155735,7.532935324642405,1.487995543556172,37.99694800099152,24.446010488239615,6.925720915297427,6.933608857523193,10.153998528770511],\"type\":\"bar\",\"xaxis\":\"x3\",\"yaxis\":\"y3\"},{\"marker\":{\"color\":\"purple\"},\"name\":\"4 Year Holding Period\",\"x\":[2008,2009,2010,2011,2012,2013,2014,2015,2016,2017],\"y\":[10.494911819237677,-19.795871893962115,1.8907137979329107,0.09635490889912848,28.413864348983616,34.241664693479066,26.464048822384743,14.854057965870679,8.80244031301845,1.991522320659843],\"type\":\"bar\",\"xaxis\":\"x4\",\"yaxis\":\"y4\"}],                        {\"template\":{\"data\":{\"histogram2dcontour\":[{\"type\":\"histogram2dcontour\",\"colorbar\":{\"outlinewidth\":0,\"ticks\":\"\"},\"colorscale\":[[0.0,\"#0d0887\"],[0.1111111111111111,\"#46039f\"],[0.2222222222222222,\"#7201a8\"],[0.3333333333333333,\"#9c179e\"],[0.4444444444444444,\"#bd3786\"],[0.5555555555555556,\"#d8576b\"],[0.6666666666666666,\"#ed7953\"],[0.7777777777777778,\"#fb9f3a\"],[0.8888888888888888,\"#fdca26\"],[1.0,\"#f0f921\"]]}],\"choropleth\":[{\"type\":\"choropleth\",\"colorbar\":{\"outlinewidth\":0,\"ticks\":\"\"}}],\"histogram2d\":[{\"type\":\"histogram2d\",\"colorbar\":{\"outlinewidth\":0,\"ticks\":\"\"},\"colorscale\":[[0.0,\"#0d0887\"],[0.1111111111111111,\"#46039f\"],[0.2222222222222222,\"#7201a8\"],[0.3333333333333333,\"#9c179e\"],[0.4444444444444444,\"#bd3786\"],[0.5555555555555556,\"#d8576b\"],[0.6666666666666666,\"#ed7953\"],[0.7777777777777778,\"#fb9f3a\"],[0.8888888888888888,\"#fdca26\"],[1.0,\"#f0f921\"]]}],\"heatmap\":[{\"type\":\"heatmap\",\"colorbar\":{\"outlinewidth\":0,\"ticks\":\"\"},\"colorscale\":[[0.0,\"#0d0887\"],[0.1111111111111111,\"#46039f\"],[0.2222222222222222,\"#7201a8\"],[0.3333333333333333,\"#9c179e\"],[0.4444444444444444,\"#bd3786\"],[0.5555555555555556,\"#d8576b\"],[0.6666666666666666,\"#ed7953\"],[0.7777777777777778,\"#fb9f3a\"],[0.8888888888888888,\"#fdca26\"],[1.0,\"#f0f921\"]]}],\"heatmapgl\":[{\"type\":\"heatmapgl\",\"colorbar\":{\"outlinewidth\":0,\"ticks\":\"\"},\"colorscale\":[[0.0,\"#0d0887\"],[0.1111111111111111,\"#46039f\"],[0.2222222222222222,\"#7201a8\"],[0.3333333333333333,\"#9c179e\"],[0.4444444444444444,\"#bd3786\"],[0.5555555555555556,\"#d8576b\"],[0.6666666666666666,\"#ed7953\"],[0.7777777777777778,\"#fb9f3a\"],[0.8888888888888888,\"#fdca26\"],[1.0,\"#f0f921\"]]}],\"contourcarpet\":[{\"type\":\"contourcarpet\",\"colorbar\":{\"outlinewidth\":0,\"ticks\":\"\"}}],\"contour\":[{\"type\":\"contour\",\"colorbar\":{\"outlinewidth\":0,\"ticks\":\"\"},\"colorscale\":[[0.0,\"#0d0887\"],[0.1111111111111111,\"#46039f\"],[0.2222222222222222,\"#7201a8\"],[0.3333333333333333,\"#9c179e\"],[0.4444444444444444,\"#bd3786\"],[0.5555555555555556,\"#d8576b\"],[0.6666666666666666,\"#ed7953\"],[0.7777777777777778,\"#fb9f3a\"],[0.8888888888888888,\"#fdca26\"],[1.0,\"#f0f921\"]]}],\"surface\":[{\"type\":\"surface\",\"colorbar\":{\"outlinewidth\":0,\"ticks\":\"\"},\"colorscale\":[[0.0,\"#0d0887\"],[0.1111111111111111,\"#46039f\"],[0.2222222222222222,\"#7201a8\"],[0.3333333333333333,\"#9c179e\"],[0.4444444444444444,\"#bd3786\"],[0.5555555555555556,\"#d8576b\"],[0.6666666666666666,\"#ed7953\"],[0.7777777777777778,\"#fb9f3a\"],[0.8888888888888888,\"#fdca26\"],[1.0,\"#f0f921\"]]}],\"mesh3d\":[{\"type\":\"mesh3d\",\"colorbar\":{\"outlinewidth\":0,\"ticks\":\"\"}}],\"scatter\":[{\"fillpattern\":{\"fillmode\":\"overlay\",\"size\":10,\"solidity\":0.2},\"type\":\"scatter\"}],\"parcoords\":[{\"type\":\"parcoords\",\"line\":{\"colorbar\":{\"outlinewidth\":0,\"ticks\":\"\"}}}],\"scatterpolargl\":[{\"type\":\"scatterpolargl\",\"marker\":{\"colorbar\":{\"outlinewidth\":0,\"ticks\":\"\"}}}],\"bar\":[{\"error_x\":{\"color\":\"#2a3f5f\"},\"error_y\":{\"color\":\"#2a3f5f\"},\"marker\":{\"line\":{\"color\":\"#E5ECF6\",\"width\":0.5},\"pattern\":{\"fillmode\":\"overlay\",\"size\":10,\"solidity\":0.2}},\"type\":\"bar\"}],\"scattergeo\":[{\"type\":\"scattergeo\",\"marker\":{\"colorbar\":{\"outlinewidth\":0,\"ticks\":\"\"}}}],\"scatterpolar\":[{\"type\":\"scatterpolar\",\"marker\":{\"colorbar\":{\"outlinewidth\":0,\"ticks\":\"\"}}}],\"histogram\":[{\"marker\":{\"pattern\":{\"fillmode\":\"overlay\",\"size\":10,\"solidity\":0.2}},\"type\":\"histogram\"}],\"scattergl\":[{\"type\":\"scattergl\",\"marker\":{\"colorbar\":{\"outlinewidth\":0,\"ticks\":\"\"}}}],\"scatter3d\":[{\"type\":\"scatter3d\",\"line\":{\"colorbar\":{\"outlinewidth\":0,\"ticks\":\"\"}},\"marker\":{\"colorbar\":{\"outlinewidth\":0,\"ticks\":\"\"}}}],\"scattermapbox\":[{\"type\":\"scattermapbox\",\"marker\":{\"colorbar\":{\"outlinewidth\":0,\"ticks\":\"\"}}}],\"scatterternary\":[{\"type\":\"scatterternary\",\"marker\":{\"colorbar\":{\"outlinewidth\":0,\"ticks\":\"\"}}}],\"scattercarpet\":[{\"type\":\"scattercarpet\",\"marker\":{\"colorbar\":{\"outlinewidth\":0,\"ticks\":\"\"}}}],\"carpet\":[{\"aaxis\":{\"endlinecolor\":\"#2a3f5f\",\"gridcolor\":\"white\",\"linecolor\":\"white\",\"minorgridcolor\":\"white\",\"startlinecolor\":\"#2a3f5f\"},\"baxis\":{\"endlinecolor\":\"#2a3f5f\",\"gridcolor\":\"white\",\"linecolor\":\"white\",\"minorgridcolor\":\"white\",\"startlinecolor\":\"#2a3f5f\"},\"type\":\"carpet\"}],\"table\":[{\"cells\":{\"fill\":{\"color\":\"#EBF0F8\"},\"line\":{\"color\":\"white\"}},\"header\":{\"fill\":{\"color\":\"#C8D4E3\"},\"line\":{\"color\":\"white\"}},\"type\":\"table\"}],\"barpolar\":[{\"marker\":{\"line\":{\"color\":\"#E5ECF6\",\"width\":0.5},\"pattern\":{\"fillmode\":\"overlay\",\"size\":10,\"solidity\":0.2}},\"type\":\"barpolar\"}],\"pie\":[{\"automargin\":true,\"type\":\"pie\"}]},\"layout\":{\"autotypenumbers\":\"strict\",\"colorway\":[\"#636efa\",\"#EF553B\",\"#00cc96\",\"#ab63fa\",\"#FFA15A\",\"#19d3f3\",\"#FF6692\",\"#B6E880\",\"#FF97FF\",\"#FECB52\"],\"font\":{\"color\":\"#2a3f5f\"},\"hovermode\":\"closest\",\"hoverlabel\":{\"align\":\"left\"},\"paper_bgcolor\":\"white\",\"plot_bgcolor\":\"#E5ECF6\",\"polar\":{\"bgcolor\":\"#E5ECF6\",\"angularaxis\":{\"gridcolor\":\"white\",\"linecolor\":\"white\",\"ticks\":\"\"},\"radialaxis\":{\"gridcolor\":\"white\",\"linecolor\":\"white\",\"ticks\":\"\"}},\"ternary\":{\"bgcolor\":\"#E5ECF6\",\"aaxis\":{\"gridcolor\":\"white\",\"linecolor\":\"white\",\"ticks\":\"\"},\"baxis\":{\"gridcolor\":\"white\",\"linecolor\":\"white\",\"ticks\":\"\"},\"caxis\":{\"gridcolor\":\"white\",\"linecolor\":\"white\",\"ticks\":\"\"}},\"coloraxis\":{\"colorbar\":{\"outlinewidth\":0,\"ticks\":\"\"}},\"colorscale\":{\"sequential\":[[0.0,\"#0d0887\"],[0.1111111111111111,\"#46039f\"],[0.2222222222222222,\"#7201a8\"],[0.3333333333333333,\"#9c179e\"],[0.4444444444444444,\"#bd3786\"],[0.5555555555555556,\"#d8576b\"],[0.6666666666666666,\"#ed7953\"],[0.7777777777777778,\"#fb9f3a\"],[0.8888888888888888,\"#fdca26\"],[1.0,\"#f0f921\"]],\"sequentialminus\":[[0.0,\"#0d0887\"],[0.1111111111111111,\"#46039f\"],[0.2222222222222222,\"#7201a8\"],[0.3333333333333333,\"#9c179e\"],[0.4444444444444444,\"#bd3786\"],[0.5555555555555556,\"#d8576b\"],[0.6666666666666666,\"#ed7953\"],[0.7777777777777778,\"#fb9f3a\"],[0.8888888888888888,\"#fdca26\"],[1.0,\"#f0f921\"]],\"diverging\":[[0,\"#8e0152\"],[0.1,\"#c51b7d\"],[0.2,\"#de77ae\"],[0.3,\"#f1b6da\"],[0.4,\"#fde0ef\"],[0.5,\"#f7f7f7\"],[0.6,\"#e6f5d0\"],[0.7,\"#b8e186\"],[0.8,\"#7fbc41\"],[0.9,\"#4d9221\"],[1,\"#276419\"]]},\"xaxis\":{\"gridcolor\":\"white\",\"linecolor\":\"white\",\"ticks\":\"\",\"title\":{\"standoff\":15},\"zerolinecolor\":\"white\",\"automargin\":true,\"zerolinewidth\":2},\"yaxis\":{\"gridcolor\":\"white\",\"linecolor\":\"white\",\"ticks\":\"\",\"title\":{\"standoff\":15},\"zerolinecolor\":\"white\",\"automargin\":true,\"zerolinewidth\":2},\"scene\":{\"xaxis\":{\"backgroundcolor\":\"#E5ECF6\",\"gridcolor\":\"white\",\"linecolor\":\"white\",\"showbackground\":true,\"ticks\":\"\",\"zerolinecolor\":\"white\",\"gridwidth\":2},\"yaxis\":{\"backgroundcolor\":\"#E5ECF6\",\"gridcolor\":\"white\",\"linecolor\":\"white\",\"showbackground\":true,\"ticks\":\"\",\"zerolinecolor\":\"white\",\"gridwidth\":2},\"zaxis\":{\"backgroundcolor\":\"#E5ECF6\",\"gridcolor\":\"white\",\"linecolor\":\"white\",\"showbackground\":true,\"ticks\":\"\",\"zerolinecolor\":\"white\",\"gridwidth\":2}},\"shapedefaults\":{\"line\":{\"color\":\"#2a3f5f\"}},\"annotationdefaults\":{\"arrowcolor\":\"#2a3f5f\",\"arrowhead\":0,\"arrowwidth\":1},\"geo\":{\"bgcolor\":\"white\",\"landcolor\":\"#E5ECF6\",\"subunitcolor\":\"white\",\"showland\":true,\"showlakes\":true,\"lakecolor\":\"white\"},\"title\":{\"x\":0.05},\"mapbox\":{\"style\":\"light\"}}},\"xaxis\":{\"anchor\":\"y\",\"domain\":[0.0,0.45],\"automargin\":true,\"title\":{\"text\":\"Year\"}},\"yaxis\":{\"anchor\":\"x\",\"domain\":[0.625,1.0],\"automargin\":true,\"title\":{\"text\":\"Returns (%)\"}},\"xaxis2\":{\"anchor\":\"y2\",\"domain\":[0.55,1.0],\"title\":{\"text\":\"Year\"}},\"yaxis2\":{\"anchor\":\"x2\",\"domain\":[0.625,1.0],\"title\":{\"text\":\"Returns (%)\"}},\"xaxis3\":{\"anchor\":\"y3\",\"domain\":[0.0,0.45],\"title\":{\"text\":\"Year\"}},\"yaxis3\":{\"anchor\":\"x3\",\"domain\":[0.0,0.375],\"title\":{\"text\":\"Returns (%)\"}},\"xaxis4\":{\"anchor\":\"y4\",\"domain\":[0.55,1.0],\"title\":{\"text\":\"Year\"}},\"yaxis4\":{\"anchor\":\"x4\",\"domain\":[0.0,0.375],\"title\":{\"text\":\"Returns (%)\"}},\"annotations\":[{\"font\":{\"size\":16},\"showarrow\":false,\"text\":\"1 Year Holding Period\",\"x\":0.225,\"xanchor\":\"center\",\"xref\":\"paper\",\"y\":1.0,\"yanchor\":\"bottom\",\"yref\":\"paper\"},{\"font\":{\"size\":16},\"showarrow\":false,\"text\":\"2 Year Holding Period\",\"x\":0.775,\"xanchor\":\"center\",\"xref\":\"paper\",\"y\":1.0,\"yanchor\":\"bottom\",\"yref\":\"paper\"},{\"font\":{\"size\":16},\"showarrow\":false,\"text\":\"3 Year Holding Period\",\"x\":0.225,\"xanchor\":\"center\",\"xref\":\"paper\",\"y\":0.375,\"yanchor\":\"bottom\",\"yref\":\"paper\"},{\"font\":{\"size\":16},\"showarrow\":false,\"text\":\"4 Year Holding Period\",\"x\":0.775,\"xanchor\":\"center\",\"xref\":\"paper\",\"y\":0.375,\"yanchor\":\"bottom\",\"yref\":\"paper\"}],\"title\":{\"text\":\"Return in the PPP Strategy over Holding Periods by Start Year\",\"y\":0.98,\"x\":0.5,\"xanchor\":\"center\",\"yanchor\":\"top\"},\"margin\":{\"l\":20,\"r\":20,\"t\":80,\"b\":20},\"height\":600,\"width\":800,\"showlegend\":false,\"paper_bgcolor\":\"rgb(255, 255, 255)\",\"plot_bgcolor\":\"rgb(243, 243, 243)\"},                        {\"responsive\": true}                    ).then(function(){\n",
       "                            \n",
       "var gd = document.getElementById('cdf3ddaf-8fa9-4602-a5dc-6f54bde61ea1');\n",
       "var x = new MutationObserver(function (mutations, observer) {{\n",
       "        var display = window.getComputedStyle(gd).display;\n",
       "        if (!display || display === 'none') {{\n",
       "            console.log([gd, 'removed!']);\n",
       "            Plotly.purge(gd);\n",
       "            observer.disconnect();\n",
       "        }}\n",
       "}});\n",
       "\n",
       "// Listen for the removal of the full notebook cells\n",
       "var notebookContainer = gd.closest('#notebook-container');\n",
       "if (notebookContainer) {{\n",
       "    x.observe(notebookContainer, {childList: true});\n",
       "}}\n",
       "\n",
       "// Listen for the clearing of the current output cell\n",
       "var outputEl = gd.closest('.output');\n",
       "if (outputEl) {{\n",
       "    x.observe(outputEl, {childList: true});\n",
       "}}\n",
       "\n",
       "                        })                };                });            </script>        </div>"
      ]
     },
     "metadata": {},
     "output_type": "display_data"
    }
   ],
   "source": [
    "import plotly.graph_objs as go\n",
    "from plotly.subplots import make_subplots\n",
    "\n",
    "# Define the years and values for each holding period\n",
    "years = [k for k in returns2.keys()]\n",
    "values = [[v[i] for v in returns2.values()] for i in range(4)]\n",
    "\n",
    "# Define the colors for each holding period\n",
    "colors = ['red', 'green', 'blue', 'purple']\n",
    "\n",
    "# Define the subplot layout\n",
    "fig = make_subplots(rows=2, cols=2, subplot_titles=[\"1 Year Holding Period\", \"2 Year Holding Period\",\n",
    "                                                    \"3 Year Holding Period\", \"4 Year Holding Period\"])\n",
    "\n",
    "# Loop through the data and create a bar chart in each subplot\n",
    "for i in range(4):\n",
    "    row = (i // 2) + 1\n",
    "    col = (i % 2) + 1\n",
    "    fig.add_trace(go.Bar(x=years, y=values[i], marker_color=colors[i], name=f'{i+1} Year Holding Period'),\n",
    "                  row=row, col=col)\n",
    "\n",
    "# Update the subplot layout and style\n",
    "fig.update_layout(height=600, width=800,  \n",
    "                  title={\n",
    "                'text': 'Return in the PPP Strategy over Holding Periods by Start Year',\n",
    "                    'y': 0.98,\n",
    "                    'x': 0.5,\n",
    "                    'xanchor': 'center',\n",
    "                    'yanchor': 'top'},\n",
    "                  showlegend=False, \n",
    "                  margin=dict(l=20, r=20, t=80, b=20), \n",
    "                  paper_bgcolor='rgb(255, 255, 255)', \n",
    "                  plot_bgcolor='rgb(243, 243, 243)', \n",
    "                  yaxis=dict(automargin=True),\n",
    "                  xaxis=dict(automargin=True),\n",
    "                  )\n",
    "for i in range(2):\n",
    "    for j in range(2):\n",
    "        fig.update_xaxes(title_text=\"Year\", row=i+1, col=j+1)\n",
    "        fig.update_yaxes(title_text=\"Returns (%)\", row=i+1, col=j+1)\n",
    "\n",
    "# Show the plot\n",
    "fig.show()\n"
   ]
  },
  {
   "cell_type": "markdown",
   "metadata": {},
   "source": [
    "<font face=\"Arial\">\n",
    "    \n",
    "    \n",
    "### Shorting or Going Long: Which positions do we take by country over the years? ###\n",
    "\n",
    "Finally, let's look at what is happening on a country level, what currencies we are betting will go up and which we are betting to go down. The red indicates we are expecting the home currency to depreciate and we took out an associated loan in that currency. Green indicates an appreciation in the currency so you want to loan in USD and hold in the other currency. The closer to white the hue is the less significant our differential is thus we took a smaller position. For the deviation investing you can interpret the darker-coloured countries as countries we bet more strongly against. \n",
    "\n",
    "This map shows how your holdings change over the years (press replay if you want to see it go again) also notice that white moves with zero even if the ranges change because that was an annoying detail to code. \n",
    "\n",
    "\n"
   ]
  },
  {
   "cell_type": "code",
   "execution_count": 14,
   "metadata": {
    "scrolled": false
   },
   "outputs": [
    {
     "data": {
      "text/html": [
       "<iframe\n",
       "    scrolling=\"no\"\n",
       "    width=\"100%\"\n",
       "    height=\"545px\"\n",
       "    src=\"iframe_figures/figure_14.html\"\n",
       "    frameborder=\"0\"\n",
       "    allowfullscreen\n",
       "></iframe>\n"
      ]
     },
     "metadata": {},
     "output_type": "display_data"
    },
    {
     "data": {
      "text/plain": [
       "'animation.html'"
      ]
     },
     "execution_count": 14,
     "metadata": {},
     "output_type": "execute_result"
    }
   ],
   "source": [
    "import pandas as pd\n",
    "import plotly.graph_objs as go\n",
    "import plotly.offline as offline\n",
    "import plotly.io as pio\n",
    "pio.renderers.default = 'iframe'\n",
    "\n",
    "df_full = []\n",
    "colors = []\n",
    "for year in range(2008, 2018):\n",
    "    df = df_years[year].reset_index()\n",
    "    df = df[df['Country Name'] != 'United States']\n",
    "    df_full.append(df)\n",
    "    max = df['usd_amount'].max()\n",
    "    min = df['usd_amount'].min()\n",
    "    middle =  (max)/(max-min)\n",
    "    colors.append([[0, 'red'], [middle, 'white'], [1, 'green']])\n",
    "\n",
    "\n",
    "frames = []\n",
    "for i, year in enumerate(range(2008, 2018)):\n",
    "    # Create choropleth trace for each year\n",
    "    choropleth_trace = go.Choropleth(\n",
    "        locations=df_full[i]['Country Name'].astype(str),\n",
    "        z=-(df_full[i]['usd_amount'].astype(float)),\n",
    "        locationmode='country names',\n",
    "        colorscale=colors[i],\n",
    "        colorbar_title=f\"Home Currency t=0 ($) {year}\"\n",
    "    )\n",
    "    frames.append(go.Frame(data=[choropleth_trace]))\n",
    "    \n",
    "layout = go.Layout(\n",
    "    title={\n",
    "        'text': 'Betting: Shorting or Going Long 2008-2017',\n",
    "        'y': 0.9,\n",
    "        'x': 0.45,\n",
    "        'xanchor': 'center',\n",
    "        'yanchor': 'top'},\n",
    "    geo_scope='world',\n",
    "    updatemenus=[{\n",
    "        'type': 'buttons',\n",
    "        'buttons': [{\n",
    "            'label': 'Replay',\n",
    "            'method': 'animate',\n",
    "            'args': [None, {'frame': {'duration': 1000, 'redraw': True}, 'fromcurrent': True, 'transition': {'duration': 0, 'easing': 'linear'}}]\n",
    "        }]\n",
    "    }]\n",
    ")\n",
    "\n",
    "fig = go.Figure(data=[choropleth_trace], frames=frames)\n",
    "fig.update_layout(layout)\n",
    "offline.iplot(fig)\n",
    "\n",
    "offline.plot(fig, filename='animation.html')\n",
    "\n"
   ]
  },
  {
   "cell_type": "markdown",
   "metadata": {},
   "source": [
    "<font face=\"Arial\">\n",
    "    \n",
    "### Do Certain Currencies Perform Better? ###\n",
    "\n",
    "Clearly a within-sample question but I was curious if there were any countries that we always took a long or short position on. Remember that we took a series of 10 years so countries with lower numbers like -2 or 2 which implies that 6:4 of the times we took one position over the other and would imply a more stable currency that is potentially stronger. This map doesn't glean much information however shows that positions change and we have a split between shorting and going long depending on the year. So it's not that we are measuring consistent effects of the USD strengthening and every other currency weakening. \n",
    "\n"
   ]
  },
  {
   "cell_type": "code",
   "execution_count": 15,
   "metadata": {
    "scrolled": false
   },
   "outputs": [
    {
     "data": {
      "text/html": [
       "<iframe\n",
       "    scrolling=\"no\"\n",
       "    width=\"100%\"\n",
       "    height=\"545px\"\n",
       "    src=\"iframe_figures/figure_15.html\"\n",
       "    frameborder=\"0\"\n",
       "    allowfullscreen\n",
       "></iframe>\n"
      ]
     },
     "metadata": {},
     "output_type": "display_data"
    },
    {
     "data": {
      "text/plain": [
       "'static_map.html'"
      ]
     },
     "execution_count": 15,
     "metadata": {},
     "output_type": "execute_result"
    }
   ],
   "source": [
    "values={}\n",
    "\n",
    "yr = 2015\n",
    "\n",
    "for country in df_years[yr].index:\n",
    "    value = 0\n",
    "    for yr in range(2008, 2018):\n",
    "        x = df_years[yr].groupby('Country Name')['Final_diff'].mean()\n",
    "        try:\n",
    "\n",
    "            if x[country]>=0:\n",
    "                value +=1\n",
    "\n",
    "            elif x[country]<0:\n",
    "                value -=1\n",
    "        except:\n",
    "            print()\n",
    "            \n",
    "        values[country] = value\n",
    "df = pd.Series(values)\n",
    "df = df.reset_index()\n",
    "\n",
    "colors = [[0, 'darkblue'], [0.37, 'white'], [1, 'green']]\n",
    "\n",
    "\n",
    "\n",
    "# Choropleth map!\n",
    "fig = go.Figure(data=go.Choropleth(\n",
    "    locations = df['index'].astype(str),\n",
    "    z = df[0].astype(float),\n",
    "    locationmode = 'country names',\n",
    "    colorscale = colors,\n",
    "    colorbar_title = \"Home Currency t=0 ($)\"\n",
    "))\n",
    "\n",
    "fig.update_layout(\n",
    "    #manually centering, not great but not sure how to automate\n",
    "    title={\n",
    "        'text': 'Performance of Different Currencies',\n",
    "        'y': 0.9,\n",
    "        'x': 0.45,\n",
    "        'xanchor': 'center',\n",
    "        'yanchor': 'top'},\n",
    "    geo_scope = 'world'\n",
    ")\n",
    "\n",
    "fig.show()\n",
    "\n",
    "offline.plot(fig, filename='static_map.html')\n",
    "    "
   ]
  },
  {
   "cell_type": "markdown",
   "metadata": {},
   "source": [
    "<font face=\"Arial\">\n",
    "    \n",
    "### Conclusion ###\n",
    "\n",
    "I thought this was pretty cool that we got non-zero returns on all the investment strategies. To be honest this brought forth more questions than answers, especially regarding the feasibility strategies of the absolute deviation strategy (how would it work with different interest and lending rates). Is it even possible to get safe assets in some of these countries that I modelled in or are part of these effects just coming from risk?\n",
    "\n",
    "There are a lot of weaknesses in this modelling for example I have no idea why proportionally betting on the USD wins maybe it's because the higher differential signals an unstable currency and you can earn through USD. But it was interesting to see that the strength of my effect increased when we changed from uniform to proportional investing. The takeaway isn’t clear and would require a lot more analysis. All in all, I wouldn't start taking out large loans from currencies that deviated from the real exchange rate measure defined above. \n",
    "\n",
    "### References ###\n",
    "\n",
    "All the files used came from OECD data (https://data.oecd.org/) and special thanks to ChatGPT for helping with some mind-numbing tasks like writing down my country mapping part in the data cleaning section. "
   ]
  }
 ],
 "metadata": {
  "kernelspec": {
   "display_name": "Python 3 (ipykernel)",
   "language": "python",
   "name": "python3"
  },
  "language_info": {
   "codemirror_mode": {
    "name": "ipython",
    "version": 3
   },
   "file_extension": ".py",
   "mimetype": "text/x-python",
   "name": "python",
   "nbconvert_exporter": "python",
   "pygments_lexer": "ipython3",
   "version": "3.10.9"
  }
 },
 "nbformat": 4,
 "nbformat_minor": 2
}
